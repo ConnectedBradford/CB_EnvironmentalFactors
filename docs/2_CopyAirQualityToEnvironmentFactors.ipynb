{
 "cells": [
  {
   "cell_type": "code",
   "execution_count": 7,
   "id": "462edd64-f577-4a9a-8792-b042ceade80c",
   "metadata": {},
   "outputs": [
    {
     "name": "stdout",
     "output_type": "stream",
     "text": [
      "[1] \"yhcr-prd-phm-bia-core.CB_MYSPACE_JDB\"\n",
      "[1] \"yhcr-prd-phm-bia-core.CB_Environmental_Indicators\"\n",
      "[1] \"Started at 2024-05-10 11:31:44.20843\"\n"
     ]
    }
   ],
   "source": [
    "#2_Make_Staging_Database_Warehouse_FDM_Format \n",
    "\n",
    "library(bigrquery)\n",
    "library(lubridate) \n",
    "\n",
    "project_id = \"yhcr-prd-phm-bia-core\"\n",
    "\n",
    "targetdb <-'yhcr-prd-phm-bia-core.CB_Environmental_Indicators'\n",
    "sourcedb <-'yhcr-prd-phm-bia-core.CB_MYSPACE_JDB'\n",
    "\n",
    "targetdb <-gsub(\" \",'',targetdb)\n",
    "sourcedb <-gsub(\" \",'',sourcedb)\n",
    "\n",
    "\n",
    "\n",
    "print (sourcedb) \n",
    "print (targetdb)\n",
    "\n",
    "\n",
    "#example script\n",
    "\n",
    "eric <- paste(\"Started at \"  ,Sys.time() + hours(1) ,sep = \"\")\n",
    "print(eric) \n",
    "\n"
   ]
  },
  {
   "cell_type": "code",
   "execution_count": 8,
   "id": "d51daf2e-ee6b-4c8e-bd31-b7b5cbe46bc3",
   "metadata": {},
   "outputs": [
    {
     "name": "stdout",
     "output_type": "stream",
     "text": [
      "[1] \" AirQuality in Environment Indicators Completed 2024-05-10 11:32:19.958762\"\n",
      "[1] \" AirQuality in Staging Completed 2024-05-10 11:32:21.894898\"\n"
     ]
    }
   ],
   "source": [
    "sql3 <-paste('drop table if exists ', targetdb,'.tbl_Daily_AirQuality; ', sep = \"\") \n",
    "tb3 <- bq_project_query(project_id, sql3)\n",
    "\n",
    "sql4 <-paste('create or replace table CB_Environmental_Indicators.tbl_Daily_AirQuality\n",
    "as\n",
    "SELECT \n",
    "cast(substring(date,7,4) ||\"-\"|| substring(date,4,2) ||\"-\"|| substring(date,1,2) as date)  as DateRecorded,\n",
    "temperature, \n",
    "nitric_oxide, \n",
    "nitrogen_dioxide, \n",
    "nitrogen_oxides,\n",
    "sulphur_dioxide, \n",
    "pm10, \n",
    "pm2_5, \n",
    "wind_direction, \n",
    "wind_speed, \n",
    "cb_site, \n",
    "cb_year, \n",
    "cb_datasetref \n",
    " FROM ', sourcedb,'.tbl_Daily_AirQuality src ', sep = \"\") \n",
    "\n",
    "tb4 <- bq_project_query(project_id, sql4)\n",
    "\n",
    "fred <-paste(' AirQuality in Environment Indicators Completed ' ,Sys.time() + hours(1), sep = \"\")\n",
    "print (fred)\n",
    "\n",
    "sql4 <-paste('create or replace table CB_Environmental_Indicators.tbl_Daily_AirQuality\n",
    "as\n",
    "SELECT \n",
    "cast(substring(date,7,4) ||\"-\"|| substring(date,4,2) ||\"-\"|| substring(date,1,2) as date)  as DateRecorded,\n",
    "temperature, \n",
    "nitric_oxide, \n",
    "nitrogen_dioxide, \n",
    "nitrogen_oxides,\n",
    "sulphur_dioxide, \n",
    "pm10, \n",
    "pm2_5, \n",
    "wind_direction, \n",
    "wind_speed, \n",
    "cb_site, \n",
    "cb_year, \n",
    "cb_datasetref \n",
    " FROM ', sourcedb,'.tbl_Daily_AirQuality src ', sep = \"\") \n",
    "\n",
    "tb4 <- bq_project_query(project_id, sql4)\n",
    "\n",
    "fred <-paste(' AirQuality in Staging Completed ' ,Sys.time() + hours(1), sep = \"\")\n",
    "print (fred)"
   ]
  },
  {
   "cell_type": "code",
   "execution_count": null,
   "id": "883fbf68-013f-4502-9c25-c5a38e7dc432",
   "metadata": {},
   "outputs": [],
   "source": []
  }
 ],
 "metadata": {
  "environment": {
   "kernel": "ir",
   "name": "r-cpu.4-2.m110",
   "type": "gcloud",
   "uri": "gcr.io/deeplearning-platform-release/r-cpu.4-2:m110"
  },
  "kernelspec": {
   "display_name": "R",
   "language": "R",
   "name": "ir"
  },
  "language_info": {
   "codemirror_mode": "r",
   "file_extension": ".r",
   "mimetype": "text/x-r-source",
   "name": "R",
   "pygments_lexer": "r",
   "version": "4.3.1"
  }
 },
 "nbformat": 4,
 "nbformat_minor": 5
}
