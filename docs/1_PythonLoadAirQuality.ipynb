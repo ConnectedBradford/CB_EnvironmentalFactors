{
 "cells": [
  {
   "cell_type": "code",
   "execution_count": 1,
   "id": "842b9566-0ba2-4539-9641-6e9331534354",
   "metadata": {},
   "outputs": [
    {
     "name": "stderr",
     "output_type": "stream",
     "text": [
      "/opt/conda/lib/python3.7/site-packages/google/auth/_default.py:78: UserWarning: Your application has authenticated using end user credentials from Google Cloud SDK without a quota project. You might receive a \"quota exceeded\" or \"API not enabled\" error. See the following page for troubleshooting: https://cloud.google.com/docs/authentication/adc-troubleshooting/user-creds. \n",
      "  warnings.warn(_CLOUD_SDK_CREDENTIALS_WARNING)\n",
      "/opt/conda/lib/python3.7/site-packages/google/auth/_default.py:78: UserWarning: Your application has authenticated using end user credentials from Google Cloud SDK without a quota project. You might receive a \"quota exceeded\" or \"API not enabled\" error. See the following page for troubleshooting: https://cloud.google.com/docs/authentication/adc-troubleshooting/user-creds. \n",
      "  warnings.warn(_CLOUD_SDK_CREDENTIALS_WARNING)\n"
     ]
    }
   ],
   "source": [
    "from google.cloud import bigquery\n",
    "from google.cloud.bigquery import LoadJobConfig\n",
    "from google.cloud.bigquery import SchemaField\n",
    "\n",
    "\n",
    "import datetime\n",
    "\n",
    "client = bigquery.Client()\n",
    "dataset_ref = client.dataset('CB_MYSPACE_JDB')"
   ]
  },
  {
   "cell_type": "code",
   "execution_count": 3,
   "id": "05454942-453a-498b-a963-bdf7b94865cb",
   "metadata": {},
   "outputs": [
    {
     "name": "stdout",
     "output_type": "stream",
     "text": [
      "tbl_Daily_AirQuality Loaded 14785 rows.\n"
     ]
    },
    {
     "data": {
      "text/plain": [
       "'2024-05-10 09:50:35.546086'"
      ]
     },
     "execution_count": 3,
     "metadata": {},
     "output_type": "execute_result"
    }
   ],
   "source": [
    "#### Create the table tbl_AirQuality\n",
    "\n",
    "schema = [\n",
    "bigquery.SchemaField('date', 'STRING', mode='NULLABLE'),\n",
    "bigquery.SchemaField('nitric_oxide', 'STRING', mode='NULLABLE'),\n",
    "bigquery.SchemaField('temperature', 'STRING', mode='NULLABLE'),\n",
    "bigquery.SchemaField('nitrogen_dioxide', 'STRING', mode='NULLABLE'),\n",
    "bigquery.SchemaField('nitrogen_oxides', 'STRING', mode='NULLABLE'),\n",
    "bigquery.SchemaField('pm10', 'STRING', mode='NULLABLE'),\n",
    "bigquery.SchemaField('pm2_5', 'STRING', mode='NULLABLE'),\n",
    "bigquery.SchemaField('sulphur_dioxide', 'STRING', mode='NULLABLE'),\n",
    "bigquery.SchemaField('wind_direction', 'STRING', mode='NULLABLE'),\n",
    "bigquery.SchemaField('wind_speed', 'STRING', mode='NULLABLE'),\n",
    "bigquery.SchemaField('cb_site', 'STRING', mode='NULLABLE'),\n",
    "bigquery.SchemaField('cb_year', 'STRING', mode='NULLABLE'),\n",
    "bigquery.SchemaField('cb_datasetref', 'STRING', mode='NULLABLE'),\n",
    "]\n",
    "\n",
    "table_ref = dataset_ref.table('tbl_Daily_AirQuality')\n",
    "table = bigquery.Table(table_ref, schema=schema)\n",
    "#table = client.create_table(table)  # API request\n",
    "\n",
    "## Loading data for src_DemoGraphics_MASTER\n",
    "\n",
    "#table_ref = client.dataset('dataset_name').table('table_name')\n",
    "\n",
    "load_config = LoadJobConfig()\n",
    "load_config.skip_leading_rows = 2\n",
    "load_config.field_delimiter=\"|\"\n",
    "write_disposition=\"WRITE_APPEND\"\n",
    "load_config.schema = schema\n",
    "uri = 'gs://bucket_autoload/tbl_Daily_AirQuality.txt'\n",
    "\n",
    "\n",
    "load_job = client.load_table_from_uri(\n",
    "    uri,\n",
    "    table_ref,\n",
    "    job_config=load_config)\n",
    "\n",
    "load_job.result()\n",
    "\n",
    "\n",
    "dt = datetime.datetime.now() # use now() method in datetime.\n",
    "\n",
    "destination_table = client.get_table(table_ref)\n",
    "print('tbl_Daily_AirQuality Loaded {} rows.'.format(destination_table.num_rows))\n",
    "(str (dt) )"
   ]
  },
  {
   "cell_type": "code",
   "execution_count": null,
   "id": "bb470f12-76da-4df1-b69e-282133fa2064",
   "metadata": {},
   "outputs": [],
   "source": []
  }
 ],
 "metadata": {
  "environment": {
   "kernel": "python3",
   "name": "r-cpu.4-2.m110",
   "type": "gcloud",
   "uri": "gcr.io/deeplearning-platform-release/r-cpu.4-2:m110"
  },
  "kernelspec": {
   "display_name": "Python 3",
   "language": "python",
   "name": "python3"
  },
  "language_info": {
   "codemirror_mode": {
    "name": "ipython",
    "version": 3
   },
   "file_extension": ".py",
   "mimetype": "text/x-python",
   "name": "python",
   "nbconvert_exporter": "python",
   "pygments_lexer": "ipython3",
   "version": "3.7.12"
  }
 },
 "nbformat": 4,
 "nbformat_minor": 5
}
